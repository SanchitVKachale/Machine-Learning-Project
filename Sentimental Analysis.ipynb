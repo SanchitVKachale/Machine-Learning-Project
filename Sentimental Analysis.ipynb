{
 "cells": [
  {
   "cell_type": "code",
   "execution_count": 56,
   "id": "0c394cc5-1b2e-4c41-bf1e-fd8d34c25ef2",
   "metadata": {},
   "outputs": [],
   "source": [
    "#Sentiment analysis on stocks from reddit using PRAW(Python Reddit API Wrapper)\n",
    "\n",
    "#For data scraping, I have used Reddit platform and used PRAW to get data from Reddit.\n",
    "#Below are the libraries need to install before executing the code.\n",
    "import pandas as pd\n",
    "import numpy as np\n",
    "import nltk\n",
    "from nltk.sentiment.vader import SentimentIntensityAnalyzer as SIA\n",
    "import seaborn as sns\n",
    "from IPython import display\n",
    "from pprint import pprint\n",
    "import matplotlib.pyplot as plt\n",
    "import praw\n",
    "\n",
    "#While running this code, uncomment 5 lines of code below and paste your Reddit developer account details inside client_id, client_secret, user_agent.\n",
    "#reddit = praw.Reddit(\n",
    "    #client_id=\" \",\n",
    "    #client_secret=\" \",\n",
    "    #user_agent=\" \",\n",
    "#)"
   ]
  },
  {
   "cell_type": "code",
   "execution_count": 57,
   "id": "eb2f1c0e-b7a7-4077-bda3-5b6561f9beb9",
   "metadata": {},
   "outputs": [
    {
     "name": "stderr",
     "output_type": "stream",
     "text": [
      "[nltk_data] Downloading package vader_lexicon to\n",
      "[nltk_data]     C:\\Users\\Sanchit.DESKTOP-\n",
      "[nltk_data]     LV5F3SO\\AppData\\Roaming\\nltk_data...\n",
      "[nltk_data]   Package vader_lexicon is already up-to-date!\n",
      "[nltk_data] Downloading package stopwords to C:\\Users\\Sanchit.DESKTOP-\n",
      "[nltk_data]     LV5F3SO\\AppData\\Roaming\\nltk_data...\n",
      "[nltk_data]   Package stopwords is already up-to-date!\n"
     ]
    },
    {
     "data": {
      "text/plain": [
       "True"
      ]
     },
     "execution_count": 57,
     "metadata": {},
     "output_type": "execute_result"
    }
   ],
   "source": [
    "nltk.download('vader_lexicon')\n",
    "nltk.download('stopwords')"
   ]
  },
  {
   "cell_type": "code",
   "execution_count": 58,
   "id": "64326062-f53c-4d03-a9ba-05afac537a65",
   "metadata": {},
   "outputs": [],
   "source": [
    "sns.set(style = 'darkgrid', context = 'talk', palette = 'Dark2')"
   ]
  },
  {
   "cell_type": "code",
   "execution_count": 59,
   "id": "ae977e5e-fe74-4d79-934f-18268bbb078f",
   "metadata": {},
   "outputs": [
    {
     "name": "stdout",
     "output_type": "stream",
     "text": [
      "815\n"
     ]
    }
   ],
   "source": [
    "headlines = set()\n",
    "for submission in reddit.subreddit('Stocks').new(limit=None):\n",
    "    headlines.add(submission.title)\n",
    "print(len(headlines))"
   ]
  },
  {
   "cell_type": "code",
   "execution_count": 60,
   "id": "c6ece5e8-2d00-41a6-8ef9-a7b3d6735ece",
   "metadata": {},
   "outputs": [
    {
     "data": {
      "text/html": [
       "<div>\n",
       "<style scoped>\n",
       "    .dataframe tbody tr th:only-of-type {\n",
       "        vertical-align: middle;\n",
       "    }\n",
       "\n",
       "    .dataframe tbody tr th {\n",
       "        vertical-align: top;\n",
       "    }\n",
       "\n",
       "    .dataframe thead th {\n",
       "        text-align: right;\n",
       "    }\n",
       "</style>\n",
       "<table border=\"1\" class=\"dataframe\">\n",
       "  <thead>\n",
       "    <tr style=\"text-align: right;\">\n",
       "      <th></th>\n",
       "      <th>neg</th>\n",
       "      <th>neu</th>\n",
       "      <th>pos</th>\n",
       "      <th>compound</th>\n",
       "      <th>headlines</th>\n",
       "    </tr>\n",
       "  </thead>\n",
       "  <tbody>\n",
       "    <tr>\n",
       "      <th>0</th>\n",
       "      <td>0.179</td>\n",
       "      <td>0.643</td>\n",
       "      <td>0.179</td>\n",
       "      <td>0.0000</td>\n",
       "      <td>How will inflate your debt away work in a coun...</td>\n",
       "    </tr>\n",
       "    <tr>\n",
       "      <th>1</th>\n",
       "      <td>0.000</td>\n",
       "      <td>1.000</td>\n",
       "      <td>0.000</td>\n",
       "      <td>0.0000</td>\n",
       "      <td>Any investors here looking at European markets ?</td>\n",
       "    </tr>\n",
       "    <tr>\n",
       "      <th>2</th>\n",
       "      <td>0.000</td>\n",
       "      <td>1.000</td>\n",
       "      <td>0.000</td>\n",
       "      <td>0.0000</td>\n",
       "      <td>Samsung posts worse-than-expected guidance for...</td>\n",
       "    </tr>\n",
       "    <tr>\n",
       "      <th>3</th>\n",
       "      <td>0.000</td>\n",
       "      <td>0.643</td>\n",
       "      <td>0.357</td>\n",
       "      <td>0.6124</td>\n",
       "      <td>The defense Sector - Can those Earnings be sus...</td>\n",
       "    </tr>\n",
       "    <tr>\n",
       "      <th>4</th>\n",
       "      <td>0.000</td>\n",
       "      <td>1.000</td>\n",
       "      <td>0.000</td>\n",
       "      <td>0.0000</td>\n",
       "      <td>Is $SMR facing badluck or it will eventually b...</td>\n",
       "    </tr>\n",
       "  </tbody>\n",
       "</table>\n",
       "</div>"
      ],
      "text/plain": [
       "     neg    neu    pos  compound  \\\n",
       "0  0.179  0.643  0.179    0.0000   \n",
       "1  0.000  1.000  0.000    0.0000   \n",
       "2  0.000  1.000  0.000    0.0000   \n",
       "3  0.000  0.643  0.357    0.6124   \n",
       "4  0.000  1.000  0.000    0.0000   \n",
       "\n",
       "                                           headlines  \n",
       "0  How will inflate your debt away work in a coun...  \n",
       "1   Any investors here looking at European markets ?  \n",
       "2  Samsung posts worse-than-expected guidance for...  \n",
       "3  The defense Sector - Can those Earnings be sus...  \n",
       "4  Is $SMR facing badluck or it will eventually b...  "
      ]
     },
     "execution_count": 60,
     "metadata": {},
     "output_type": "execute_result"
    }
   ],
   "source": [
    "#Sentiment analysis using SentimentIntensityAnalyzer\n",
    "sia = SIA()\n",
    "results = []\n",
    "for line in headlines:\n",
    "    scores = sia.polarity_scores(line)\n",
    "    scores['headlines'] = line\n",
    "    results.append(scores)\n",
    "df = pd.DataFrame.from_records(results)\n",
    "df.head()"
   ]
  },
  {
   "cell_type": "code",
   "execution_count": 61,
   "id": "dd78e6ce-5bb1-40da-b564-8e6115b9c770",
   "metadata": {},
   "outputs": [
    {
     "data": {
      "text/html": [
       "<div>\n",
       "<style scoped>\n",
       "    .dataframe tbody tr th:only-of-type {\n",
       "        vertical-align: middle;\n",
       "    }\n",
       "\n",
       "    .dataframe tbody tr th {\n",
       "        vertical-align: top;\n",
       "    }\n",
       "\n",
       "    .dataframe thead th {\n",
       "        text-align: right;\n",
       "    }\n",
       "</style>\n",
       "<table border=\"1\" class=\"dataframe\">\n",
       "  <thead>\n",
       "    <tr style=\"text-align: right;\">\n",
       "      <th></th>\n",
       "      <th>neg</th>\n",
       "      <th>neu</th>\n",
       "      <th>pos</th>\n",
       "      <th>compound</th>\n",
       "      <th>headlines</th>\n",
       "      <th>label</th>\n",
       "    </tr>\n",
       "  </thead>\n",
       "  <tbody>\n",
       "    <tr>\n",
       "      <th>0</th>\n",
       "      <td>0.179</td>\n",
       "      <td>0.643</td>\n",
       "      <td>0.179</td>\n",
       "      <td>0.0000</td>\n",
       "      <td>How will inflate your debt away work in a coun...</td>\n",
       "      <td>0</td>\n",
       "    </tr>\n",
       "    <tr>\n",
       "      <th>1</th>\n",
       "      <td>0.000</td>\n",
       "      <td>1.000</td>\n",
       "      <td>0.000</td>\n",
       "      <td>0.0000</td>\n",
       "      <td>Any investors here looking at European markets ?</td>\n",
       "      <td>0</td>\n",
       "    </tr>\n",
       "    <tr>\n",
       "      <th>2</th>\n",
       "      <td>0.000</td>\n",
       "      <td>1.000</td>\n",
       "      <td>0.000</td>\n",
       "      <td>0.0000</td>\n",
       "      <td>Samsung posts worse-than-expected guidance for...</td>\n",
       "      <td>0</td>\n",
       "    </tr>\n",
       "    <tr>\n",
       "      <th>3</th>\n",
       "      <td>0.000</td>\n",
       "      <td>0.643</td>\n",
       "      <td>0.357</td>\n",
       "      <td>0.6124</td>\n",
       "      <td>The defense Sector - Can those Earnings be sus...</td>\n",
       "      <td>1</td>\n",
       "    </tr>\n",
       "    <tr>\n",
       "      <th>4</th>\n",
       "      <td>0.000</td>\n",
       "      <td>1.000</td>\n",
       "      <td>0.000</td>\n",
       "      <td>0.0000</td>\n",
       "      <td>Is $SMR facing badluck or it will eventually b...</td>\n",
       "      <td>0</td>\n",
       "    </tr>\n",
       "  </tbody>\n",
       "</table>\n",
       "</div>"
      ],
      "text/plain": [
       "     neg    neu    pos  compound  \\\n",
       "0  0.179  0.643  0.179    0.0000   \n",
       "1  0.000  1.000  0.000    0.0000   \n",
       "2  0.000  1.000  0.000    0.0000   \n",
       "3  0.000  0.643  0.357    0.6124   \n",
       "4  0.000  1.000  0.000    0.0000   \n",
       "\n",
       "                                           headlines  label  \n",
       "0  How will inflate your debt away work in a coun...      0  \n",
       "1   Any investors here looking at European markets ?      0  \n",
       "2  Samsung posts worse-than-expected guidance for...      0  \n",
       "3  The defense Sector - Can those Earnings be sus...      1  \n",
       "4  Is $SMR facing badluck or it will eventually b...      0  "
      ]
     },
     "execution_count": 61,
     "metadata": {},
     "output_type": "execute_result"
    }
   ],
   "source": [
    "df['label'] = 0\n",
    "df.loc[df['compound'] > 0.1, 'label'] = 1\n",
    "df.loc[df['compound'] < -0.1, 'label'] = -1\n",
    "df.head()"
   ]
  },
  {
   "cell_type": "code",
   "execution_count": 62,
   "id": "b4c7184f-4b7d-4ddd-91e4-364308d4bf95",
   "metadata": {
    "scrolled": true
   },
   "outputs": [
    {
     "name": "stdout",
     "output_type": "stream",
     "text": [
      "Positive Headlines:\n",
      "\n",
      "['The defense Sector - Can those Earnings be sustained in peace times. ',\n",
      " \"McDonald's shares fall after CDC says E. coli outbreak linked to Quarter Pounders\",\n",
      " 'How has Walgreens not cut their dividend yet?',\n",
      " 'Apollo and Workday rally on news they’ll join the S&P 500',\n",
      " 'Why does IBM get no love ? Follow Up.']\n",
      "\n",
      "Negative Headlines:\n",
      "\n",
      "['$VKTX - The sleeping GIANT in weight loss drugs (Catalyst = Oral drug data at Obesity Week on '\n",
      " 'Nov 3, 2024)',\n",
      " 'SoundHound AI Stock Tumbles as Margins Drop ',\n",
      " 'Anyone else getting nervous about an impending recession?',\n",
      " 'What I learnt from MSTR frenzy',\n",
      " 'Adani Group shares nosedive after chairman Gautam Adani charged with fraud in New York']\n"
     ]
    }
   ],
   "source": [
    "print(\"Positive Headlines:\\n\")\n",
    "pprint(list(df[df['label'] == 1].headlines)[:5], width = 100)\n",
    "\n",
    "print(\"\\nNegative Headlines:\\n\")\n",
    "pprint(list(df[df['label'] == -1].headlines)[:5], width = 100)"
   ]
  },
  {
   "cell_type": "code",
   "execution_count": 63,
   "id": "4ea52815-d3ca-4af7-9e26-ffb50b3f2170",
   "metadata": {},
   "outputs": [
    {
     "name": "stdout",
     "output_type": "stream",
     "text": [
      "label\n",
      " 0    472\n",
      " 1    239\n",
      "-1    104\n",
      "Name: count, dtype: int64\n",
      "label\n",
      " 0    57.914110\n",
      " 1    29.325153\n",
      "-1    12.760736\n",
      "Name: proportion, dtype: float64\n"
     ]
    }
   ],
   "source": [
    "print(df.label.value_counts())\n",
    "print(df.label.value_counts(normalize=True) * 100)"
   ]
  },
  {
   "cell_type": "code",
   "execution_count": 64,
   "id": "0f039f8b-da47-430c-b01d-c5f395ac5557",
   "metadata": {},
   "outputs": [
    {
     "name": "stderr",
     "output_type": "stream",
     "text": [
      "C:\\Users\\Sanchit.DESKTOP-LV5F3SO\\AppData\\Local\\Temp\\ipykernel_8428\\3704013055.py:5: UserWarning: set_ticklabels() should only be used with a fixed number of ticks, i.e. after set_ticks() or using a FixedLocator.\n",
      "  ax.set_xticklabels(['Negative', 'Neutral', 'Positive'])\n"
     ]
    },
    {
     "data": {
      "image/png": "[encoded data removed]",
      "text/plain": [
       "<Figure size 800x800 with 1 Axes>"
      ]
     },
     "metadata": {},
     "output_type": "display_data"
    }
   ],
   "source": [
    "#Bar Plot\n",
    "fig, ax = plt.subplots(figsize = (8,8))\n",
    "counts = df.label.value_counts(normalize=True) * 100\n",
    "sns.barplot(x=counts.index, y= counts, ax=ax)\n",
    "ax.set_xticklabels(['Negative', 'Neutral', 'Positive'])\n",
    "ax.set_ylabel('percentage')\n",
    "plt.show()"
   ]
  },
  {
   "cell_type": "code",
   "execution_count": null,
   "id": "e05665dd-15e2-48c4-8917-fc7122025a3e",
   "metadata": {},
   "outputs": [],
   "source": []
  }
 ],
 "metadata": {
  "kernelspec": {
   "display_name": "Python 3 (ipykernel)",
   "language": "python",
   "name": "python3"
  },
  "language_info": {
   "codemirror_mode": {
    "name": "ipython",
    "version": 3
   },
   "file_extension": ".py",
   "mimetype": "text/x-python",
   "name": "python",
   "nbconvert_exporter": "python",
   "pygments_lexer": "ipython3",
   "version": "3.12.6"
  }
 },
 "nbformat": 4,
 "nbformat_minor": 5
}
